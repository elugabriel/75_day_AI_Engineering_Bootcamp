{
 "cells": [
  {
   "cell_type": "code",
   "execution_count": 3,
   "id": "b2b3bd4c-f364-4531-b3fe-da2705e5e254",
   "metadata": {},
   "outputs": [
    {
     "ename": "IndentationError",
     "evalue": "unindent does not match any outer indentation level (<string>, line 8)",
     "output_type": "error",
     "traceback": [
      "\u001b[1;36m  File \u001b[1;32m<string>:8\u001b[1;36m\u001b[0m\n\u001b[1;33m    initial_sum = 0\u001b[0m\n\u001b[1;37m                   ^\u001b[0m\n\u001b[1;31mIndentationError\u001b[0m\u001b[1;31m:\u001b[0m unindent does not match any outer indentation level\n"
     ]
    }
   ],
   "source": [
    "valid_numbers = []\n",
    "total_sum = 0"
   ]
  },
  {
   "cell_type": "code",
   "execution_count": 7,
   "id": "c5e6c8db-5d5b-4d36-a3b0-8002ffeda8a9",
   "metadata": {},
   "outputs": [
    {
     "ename": "NameError",
     "evalue": "name 'valid_numbers' is not defined",
     "output_type": "error",
     "traceback": [
      "\u001b[1;31m---------------------------------------------------------------------------\u001b[0m",
      "\u001b[1;31mNameError\u001b[0m                                 Traceback (most recent call last)",
      "Cell \u001b[1;32mIn[7], line 20\u001b[0m\n\u001b[0;32m     16\u001b[0m         final_digit \u001b[38;5;241m=\u001b[39m sum_2\n\u001b[0;32m     19\u001b[0m         \u001b[38;5;28;01mif\u001b[39;00m chain_length \u001b[38;5;241m==\u001b[39m \u001b[38;5;241m3\u001b[39m \u001b[38;5;129;01mand\u001b[39;00m final_digit \u001b[38;5;241m==\u001b[39m \u001b[38;5;241m7\u001b[39m:\n\u001b[1;32m---> 20\u001b[0m             valid_numbers\u001b[38;5;241m.\u001b[39mappend(num)\n\u001b[0;32m     21\u001b[0m             total_sum \u001b[38;5;241m=\u001b[39m total_sum \u001b[38;5;241m+\u001b[39m num\n\u001b[0;32m     24\u001b[0m \u001b[38;5;28mprint\u001b[39m(\u001b[38;5;124m\"\u001b[39m\u001b[38;5;124mValid numbers:\u001b[39m\u001b[38;5;124m\"\u001b[39m, valid_numbers)\n",
      "\u001b[1;31mNameError\u001b[0m: name 'valid_numbers' is not defined"
     ]
    }
   ],
   "source": [
    "for num in range(1, 1001):\n",
    "    first = num\n",
    "    initial_sum = 0\n",
    "    \n",
    "    for digit in str(first):\n",
    "        initial_sum = initial_sum + int(digit)\n",
    "\n",
    "   \n",
    "    sum_2 = 0\n",
    "    for digit in str(initial_sum):\n",
    "        sum_2 = sum_2 + int(digit)\n",
    "\n",
    "  \n",
    "    if sum_2 < 10:\n",
    "        chain_length = 3\n",
    "        final_digit = sum_2\n",
    "\n",
    "       \n",
    "        if chain_length == 3 and final_digit == 7:\n",
    "            valid_numbers.append(num)\n",
    "            total_sum = total_sum + num\n",
    "\n",
    "\n",
    "print(\"Valid numbers:\", valid_numbers)\n",
    "print(\"Count:\", len(valid_numbers))\n",
    "print(\"Sum of all such numbers:\", total_sum)\n"
   ]
  },
  {
   "cell_type": "code",
   "execution_count": null,
   "id": "ad20d5e5-9315-41d8-9a08-070517957111",
   "metadata": {},
   "outputs": [],
   "source": []
  },
  {
   "cell_type": "code",
   "execution_count": null,
   "id": "06c318b9-02fe-410d-95e5-21ba483fe60a",
   "metadata": {},
   "outputs": [],
   "source": []
  }
 ],
 "metadata": {
  "kernelspec": {
   "display_name": "Python [conda env:base] *",
   "language": "python",
   "name": "conda-base-py"
  },
  "language_info": {
   "codemirror_mode": {
    "name": "ipython",
    "version": 3
   },
   "file_extension": ".py",
   "mimetype": "text/x-python",
   "name": "python",
   "nbconvert_exporter": "python",
   "pygments_lexer": "ipython3",
   "version": "3.12.7"
  }
 },
 "nbformat": 4,
 "nbformat_minor": 5
}
