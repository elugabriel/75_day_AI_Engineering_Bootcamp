{
 "cells": [
  {
   "cell_type": "code",
   "execution_count": 11,
   "id": "b2b3bd4c-f364-4531-b3fe-da2705e5e254",
   "metadata": {},
   "outputs": [],
   "source": [
    "valid_numbers = []\n",
    "total_sum = 0"
   ]
  },
  {
   "cell_type": "code",
   "execution_count": 13,
   "id": "c5e6c8db-5d5b-4d36-a3b0-8002ffeda8a9",
   "metadata": {},
   "outputs": [],
   "source": [
    "for num in range(1, 1001):\n",
    "    first = num\n",
    "    initial_sum = 0\n",
    "    \n",
    "    for digit in str(first):\n",
    "        initial_sum = initial_sum + int(digit)\n",
    "\n",
    "   \n",
    "    sum_2 = 0\n",
    "    for digit in str(initial_sum):\n",
    "        sum_2 = sum_2 + int(digit)\n",
    "\n",
    "  \n",
    "    if sum_2 < 10:\n",
    "        chain_length = 3\n",
    "        final_digit = sum_2\n",
    "\n",
    "       \n",
    "        if chain_length == 3 and final_digit == 7:\n",
    "            valid_numbers.append(num)\n",
    "            total_sum = total_sum + num\n"
   ]
  },
  {
   "cell_type": "code",
   "execution_count": 15,
   "id": "ad20d5e5-9315-41d8-9a08-070517957111",
   "metadata": {},
   "outputs": [
    {
     "name": "stdout",
     "output_type": "stream",
     "text": [
      "Valid numbers: [7, 16, 25, 34, 43, 52, 61, 70, 79, 88, 97, 106, 115, 124, 133, 142, 151, 160, 169, 178, 187, 196, 205, 214, 223, 232, 241, 250, 259, 268, 277, 286, 295, 304, 313, 322, 331, 340, 349, 358, 367, 376, 385, 394, 403, 412, 421, 430, 439, 448, 457, 466, 475, 484, 493, 502, 511, 520, 529, 538, 547, 556, 565, 574, 583, 592, 601, 610, 619, 628, 637, 646, 655, 664, 673, 682, 691, 700, 709, 718, 727, 736, 745, 754, 763, 772, 781, 790, 799, 808, 817, 826, 835, 844, 853, 862, 871, 880, 889, 898, 907, 916, 925, 934, 943, 952, 961, 970, 979, 988, 997]\n",
      "Count: 111\n",
      "Sum of all such numbers: 55722\n"
     ]
    }
   ],
   "source": [
    "print(\"Valid numbers:\", valid_numbers)\n",
    "print(\"Count:\", len(valid_numbers))\n",
    "print(\"Sum of all such numbers:\", total_sum)\n"
   ]
  },
  {
   "cell_type": "code",
   "execution_count": null,
   "id": "06c318b9-02fe-410d-95e5-21ba483fe60a",
   "metadata": {},
   "outputs": [],
   "source": []
  }
 ],
 "metadata": {
  "kernelspec": {
   "display_name": "Python [conda env:base] *",
   "language": "python",
   "name": "conda-base-py"
  },
  "language_info": {
   "codemirror_mode": {
    "name": "ipython",
    "version": 3
   },
   "file_extension": ".py",
   "mimetype": "text/x-python",
   "name": "python",
   "nbconvert_exporter": "python",
   "pygments_lexer": "ipython3",
   "version": "3.12.7"
  }
 },
 "nbformat": 4,
 "nbformat_minor": 5
}
